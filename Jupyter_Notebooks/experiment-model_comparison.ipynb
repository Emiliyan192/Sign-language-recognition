{
 "cells": [
  {
   "cell_type": "markdown",
   "metadata": {
    "id": "K1ArnpP-HScB"
   },
   "source": [
    "## Import"
   ]
  },
  {
   "cell_type": "code",
   "execution_count": 1,
   "metadata": {
    "executionInfo": {
     "elapsed": 6956,
     "status": "ok",
     "timestamp": 1612535788800,
     "user": {
      "displayName": "Tan Haobin",
      "photoUrl": "",
      "userId": "13030141802000336802"
     },
     "user_tz": -60
    },
    "id": "7JFRCqyzIBIN"
   },
   "outputs": [],
   "source": [
    "import numpy as np\n",
    "import pandas as pd\n",
    "from pathlib import Path\n",
    "import matplotlib.pyplot as plt\n",
    "from tqdm.notebook import tqdm\n",
    "# import seaborn as sns\n",
    "from PIL import Image\n",
    "import copy\n",
    "\n",
    "import torch\n",
    "import torch.nn as nn\n",
    "import torch.nn.functional as F\n",
    "from torch import optim\n",
    "from torch.optim import lr_scheduler\n",
    "from torch.utils.tensorboard import SummaryWriter\n",
    "from torchvision import datasets, transforms\n",
    "from torch.utils.data.dataset import Dataset\n",
    "from torch.utils.data import DataLoader\n",
    "import torchvision.models as models"
   ]
  },
  {
   "cell_type": "markdown",
   "metadata": {
    "id": "9cH3n-R7IO7i"
   },
   "source": [
    "## Device"
   ]
  },
  {
   "cell_type": "code",
   "execution_count": 2,
   "metadata": {
    "colab": {
     "base_uri": "https://localhost:8080/"
    },
    "executionInfo": {
     "elapsed": 2078,
     "status": "ok",
     "timestamp": 1612535797550,
     "user": {
      "displayName": "Tan Haobin",
      "photoUrl": "",
      "userId": "13030141802000336802"
     },
     "user_tz": -60
    },
    "id": "932FYnzGIQGi",
    "outputId": "a5b44b74-049f-44d1-ca23-046eb7924e03"
   },
   "outputs": [
    {
     "name": "stdout",
     "output_type": "stream",
     "text": [
      "Running on device: cuda:0\n"
     ]
    }
   ],
   "source": [
    "device = torch.device('cuda:0' if torch.cuda.is_available() else 'cpu')\n",
    "print('Running on device: {}'.format(device))"
   ]
  },
  {
   "cell_type": "markdown",
   "metadata": {
    "id": "nui3_07RJd7R"
   },
   "source": [
    "## Dataset"
   ]
  },
  {
   "cell_type": "code",
   "execution_count": 3,
   "metadata": {
    "executionInfo": {
     "elapsed": 956,
     "status": "ok",
     "timestamp": 1612535799510,
     "user": {
      "displayName": "Tan Haobin",
      "photoUrl": "",
      "userId": "13030141802000336802"
     },
     "user_tz": -60
    },
    "id": "DaIlRGWeeIff"
   },
   "outputs": [],
   "source": [
    "DATASET_PATH = \"data/sign_mnist_train.csv\""
   ]
  },
  {
   "cell_type": "markdown",
   "metadata": {
    "id": "if0HdQVJJz53"
   },
   "source": [
    "### Helper function for saving images"
   ]
  },
  {
   "cell_type": "code",
   "execution_count": 4,
   "metadata": {
    "executionInfo": {
     "elapsed": 2187,
     "status": "ok",
     "timestamp": 1612535801579,
     "user": {
      "displayName": "Tan Haobin",
      "photoUrl": "",
      "userId": "13030141802000336802"
     },
     "user_tz": -60
    },
    "id": "jsy4nxp1f9Ms"
   },
   "outputs": [],
   "source": [
    "import os\n",
    "\n",
    "def save_fig(fig, fig_name, fig_dir, tight_layout=True, padding=False, transparent=True, fig_extension=\"png\", resolution=300):\n",
    "    if not os.path.exists(fig_dir):\n",
    "        os.makedirs(fig_dir)\n",
    "\n",
    "    path = os.path.join(fig_dir, fig_name + \".\" + fig_extension)\n",
    "\n",
    "    if tight_layout:\n",
    "        plt.tight_layout()\n",
    "    \n",
    "    if not padding:\n",
    "        fig.savefig(path, format=fig_extension, dpi=resolution, bbox_inches=\"tight\", pad_inches=0, transparent=transparent)\n",
    "    else:\n",
    "        fig.savefig(path, format=fig_extension, dpi=resolution, transparent=transparent)\n",
    "    print(f\"Save {fig_name}.{fig_extension} in {fig_dir}\")"
   ]
  },
  {
   "cell_type": "markdown",
   "metadata": {
    "id": "6rHTWQFTO9mY"
   },
   "source": [
    "## Define custom dataset, transforms, and dataloaders"
   ]
  },
  {
   "cell_type": "markdown",
   "metadata": {
    "id": "W1vHLnHbbJSu"
   },
   "source": [
    "### Custom dataset"
   ]
  },
  {
   "cell_type": "code",
   "execution_count": 5,
   "metadata": {
    "executionInfo": {
     "elapsed": 1292,
     "status": "ok",
     "timestamp": 1612535803640,
     "user": {
      "displayName": "Tan Haobin",
      "photoUrl": "",
      "userId": "13030141802000336802"
     },
     "user_tz": -60
    },
    "id": "No7rC1vCs1Ml"
   },
   "outputs": [],
   "source": [
    "class SignLanguageMNIST(Dataset):\n",
    "\n",
    "    def __init__(self, csv_file, phase=\"train\", val_split=0.25, shuffle=True, transform=None, label_transform=None):\n",
    "        phases = [\"train\", \"val\", \"test\"]\n",
    "        assert phase in phases, f\"Choose phase from {phases}\"\n",
    "\n",
    "        self.data = pd.read_csv(csv_file).to_numpy(np.uint8)\n",
    "\n",
    "        train_indices, val_indices = self._train_val_split(self.data, val_split=val_split, shuffle=shuffle)\n",
    "        if phase == \"train\":\n",
    "            self.data = self.data[train_indices]\n",
    "        elif phase == \"val\":\n",
    "            self.data = self.data[val_indices]\n",
    "        \n",
    "        self.images = self.data[:, 1:].reshape(-1, 28, 28, 1)\n",
    "        self.labels = self.data[:, 0]\n",
    "\n",
    "        self.transform = transform\n",
    "        self.label_transform = label_transform\n",
    "\n",
    "\n",
    "    def __getitem__(self, idx):\n",
    "        image, label = self.images[idx], self.labels[idx]\n",
    "        \n",
    "        if self.transform:\n",
    "            image = self.transform(image)\n",
    "\n",
    "        if self.label_transform:\n",
    "            label = self.label_transform(label)\n",
    "\n",
    "        label = torch.as_tensor(label, dtype=torch.long)\n",
    "\n",
    "        return image, label\n",
    "\n",
    "\n",
    "    def __len__(self):\n",
    "        return len(self.labels)\n",
    "\n",
    "\n",
    "    def _train_val_split(self, data, val_split=0.25, seed=42, shuffle=True):\n",
    "        indices = np.arange(len(data))\n",
    "        if shuffle:\n",
    "            np.random.seed(seed)\n",
    "            np.random.shuffle(indices)\n",
    "        train_indices = indices[: int((1 - val_split) * len(indices))]\n",
    "        val_indices = indices[int((1 - val_split) * len(indices)) :]\n",
    "\n",
    "        return train_indices, val_indices\n"
   ]
  },
  {
   "cell_type": "markdown",
   "metadata": {
    "id": "iaHGbgENsrOi"
   },
   "source": [
    "### Custom transforms"
   ]
  },
  {
   "cell_type": "code",
   "execution_count": 6,
   "metadata": {
    "executionInfo": {
     "elapsed": 1415,
     "status": "ok",
     "timestamp": 1612535804939,
     "user": {
      "displayName": "Tan Haobin",
      "photoUrl": "",
      "userId": "13030141802000336802"
     },
     "user_tz": -60
    },
    "id": "JynMSbtSAUC0"
   },
   "outputs": [],
   "source": [
    "data_transforms = {\n",
    "    \"train\": transforms.Compose([\n",
    "        transforms.ToPILImage(),\n",
    "        \n",
    "        transforms.Resize(224),\n",
    "\n",
    "        # data augmentation\n",
    "        transforms.RandomResizedCrop(224, scale=(0.8, 1.2)),\n",
    "        # transforms.RandomHorizontalFlip(),\n",
    "\n",
    "        transforms.ToTensor(),\n",
    "    ]),\n",
    "    \n",
    "    \"val\": transforms.Compose([\n",
    "        transforms.ToPILImage(),\n",
    "        transforms.Resize(224),\n",
    "        transforms.ToTensor(),\n",
    "    ]),\n",
    "}"
   ]
  },
  {
   "cell_type": "markdown",
   "metadata": {
    "id": "BF8qziMXe6XL"
   },
   "source": [
    "### Split training and validation set"
   ]
  },
  {
   "cell_type": "code",
   "execution_count": 7,
   "metadata": {
    "colab": {
     "base_uri": "https://localhost:8080/"
    },
    "executionInfo": {
     "elapsed": 7781,
     "status": "ok",
     "timestamp": 1612535813731,
     "user": {
      "displayName": "Tan Haobin",
      "photoUrl": "",
      "userId": "13030141802000336802"
     },
     "user_tz": -60
    },
    "id": "lgpPgiovElIB",
    "outputId": "34c5a23b-1d81-4e47-9b95-359b771ec6cc"
   },
   "outputs": [
    {
     "data": {
      "text/plain": [
       "{'train': 20591, 'val': 6864}"
      ]
     },
     "execution_count": 7,
     "metadata": {},
     "output_type": "execute_result"
    }
   ],
   "source": [
    "sign_language_datasets = {x: SignLanguageMNIST(DATASET_PATH, phase=x, transform=data_transforms[x]) for x in [\"train\", \"val\"]}\n",
    "dataset_sizes = {x: len(sign_language_datasets[x]) for x in [\"train\", \"val\"]}\n",
    "\n",
    "dataset_sizes"
   ]
  },
  {
   "cell_type": "markdown",
   "metadata": {
    "id": "qq1Bo-aHst2M"
   },
   "source": [
    "### Dataloaders"
   ]
  },
  {
   "cell_type": "code",
   "execution_count": 8,
   "metadata": {
    "executionInfo": {
     "elapsed": 6551,
     "status": "ok",
     "timestamp": 1612535813731,
     "user": {
      "displayName": "Tan Haobin",
      "photoUrl": "",
      "userId": "13030141802000336802"
     },
     "user_tz": -60
    },
    "id": "TT-g-KB7fLtc"
   },
   "outputs": [],
   "source": [
    "BATCH_SIZE = 32\n",
    "NUM_WORKERS = 8"
   ]
  },
  {
   "cell_type": "code",
   "execution_count": 9,
   "metadata": {
    "executionInfo": {
     "elapsed": 5565,
     "status": "ok",
     "timestamp": 1612535813732,
     "user": {
      "displayName": "Tan Haobin",
      "photoUrl": "",
      "userId": "13030141802000336802"
     },
     "user_tz": -60
    },
    "id": "hF9oPYYcroO9"
   },
   "outputs": [],
   "source": [
    "dataloaders = {x: torch.utils.data.DataLoader(sign_language_datasets[x], batch_size=BATCH_SIZE, \n",
    "                                              shuffle=True, num_workers=NUM_WORKERS) \n",
    "               for x in ['train', 'val']}"
   ]
  },
  {
   "cell_type": "markdown",
   "metadata": {
    "id": "1sA4FCM_szYb"
   },
   "source": [
    "## Models"
   ]
  },
  {
   "cell_type": "code",
   "execution_count": 11,
   "metadata": {},
   "outputs": [],
   "source": [
    "class SimpleCNN(nn.Module):\n",
    "    def __init__(self, num_classes=25):\n",
    "        super(SimpleCNN, self).__init__()\n",
    "        self.Conv1 = nn.Sequential(\n",
    "            nn.Conv2d(1, 32, 5), # 220, 220\n",
    "            nn.MaxPool2d(2), # 110, 110\n",
    "            nn.ReLU(),\n",
    "            nn.BatchNorm2d(32)\n",
    "        )\n",
    "        self.Conv2 = nn.Sequential(\n",
    "            nn.Conv2d(32, 64, 5), # 106, 106\n",
    "            nn.MaxPool2d(2),  # 53,53\n",
    "            nn.ReLU(),\n",
    "            nn.BatchNorm2d(64)\n",
    "        )\n",
    "        self.Conv3 = nn.Sequential(\n",
    "            nn.Conv2d(64, 128, 3), # 51, 51\n",
    "            nn.MaxPool2d(2), # 25, 25\n",
    "            nn.ReLU(),\n",
    "            nn.BatchNorm2d(128)\n",
    "        )\n",
    "        self.Conv4 = nn.Sequential(\n",
    "            nn.Conv2d(128, 256, 3), # 23, 23\n",
    "            nn.MaxPool2d(2), # 11, 11\n",
    "            nn.ReLU(),            \n",
    "            nn.BatchNorm2d(256)\n",
    "        )\n",
    "        self.Conv5 = nn.Sequential(\n",
    "            nn.Conv2d(256, 512, 3), # 9, 9\n",
    "            nn.MaxPool2d(2), # 4, 4\n",
    "            nn.ReLU(),\n",
    "            nn.BatchNorm2d(512)\n",
    "        )\n",
    "        \n",
    "        self.Linear1 = nn.Linear(512 * 4 * 4, 256)\n",
    "        self.dropout=nn.Dropout(0.1)\n",
    "        self.Linear3 = nn.Linear(256, num_classes)\n",
    "\n",
    "    def forward(self, x):\n",
    "        x = self.Conv1(x)\n",
    "        x = self.Conv2(x)\n",
    "        x = self.Conv3(x)\n",
    "        x = self.Conv4(x)\n",
    "        x = self.dropout(x)\n",
    "        x = self.Conv5(x)\n",
    "        x = x.flatten(start_dim=1)\n",
    "        x = self.Linear1(x)\n",
    "        x = self.dropout(x)\n",
    "        x = self.Linear3(x)\n",
    "        return x"
   ]
  },
  {
   "cell_type": "code",
   "execution_count": 12,
   "metadata": {
    "executionInfo": {
     "elapsed": 846,
     "status": "ok",
     "timestamp": 1612535822128,
     "user": {
      "displayName": "Tan Haobin",
      "photoUrl": "",
      "userId": "13030141802000336802"
     },
     "user_tz": -60
    },
    "id": "XEPwpbfQNt9L"
   },
   "outputs": [],
   "source": [
    "def get_alexnet(num_classes=25):\n",
    "    model = models.alexnet(num_classes=num_classes)\n",
    "    model.features[0] = nn.Conv2d(1, 64, kernel_size=11, stride=4, padding=2)\n",
    "    return model"
   ]
  },
  {
   "cell_type": "code",
   "execution_count": 13,
   "metadata": {
    "executionInfo": {
     "elapsed": 925,
     "status": "ok",
     "timestamp": 1612535824517,
     "user": {
      "displayName": "Tan Haobin",
      "photoUrl": "",
      "userId": "13030141802000336802"
     },
     "user_tz": -60
    },
    "id": "zBr6nTaOxwBy"
   },
   "outputs": [],
   "source": [
    "def get_resnet(num_classes=25):\n",
    "    model = models.resnet18(num_classes=num_classes)\n",
    "    model.conv1 = nn.Conv2d(1, 64, kernel_size=7, stride=2, padding=3, bias=False)\n",
    "    return model"
   ]
  },
  {
   "cell_type": "code",
   "execution_count": 14,
   "metadata": {
    "executionInfo": {
     "elapsed": 1415,
     "status": "ok",
     "timestamp": 1612535829971,
     "user": {
      "displayName": "Tan Haobin",
      "photoUrl": "",
      "userId": "13030141802000336802"
     },
     "user_tz": -60
    },
    "id": "ans7vxe2Ym0i"
   },
   "outputs": [],
   "source": [
    "def get_squeezenet(num_classes=25):\n",
    "    model = models.squeezenet1_0(num_classes=num_classes)\n",
    "    model.features[0] = nn.Conv2d(1, 96, kernel_size=7, stride=2)\n",
    "    return model"
   ]
  },
  {
   "cell_type": "code",
   "execution_count": 15,
   "metadata": {
    "executionInfo": {
     "elapsed": 1976,
     "status": "ok",
     "timestamp": 1612535830761,
     "user": {
      "displayName": "Tan Haobin",
      "photoUrl": "",
      "userId": "13030141802000336802"
     },
     "user_tz": -60
    },
    "id": "iwHWohsVkO8l"
   },
   "outputs": [],
   "source": [
    "def get_vgg(num_classes=25):\n",
    "    model = models.vgg11_bn(num_classes=num_classes)\n",
    "    model.features[0] = nn.Conv2d(1, 64, kernel_size=(3, 3), stride=(1, 1), padding=(1, 1))\n",
    "    return model"
   ]
  },
  {
   "cell_type": "code",
   "execution_count": 17,
   "metadata": {
    "colab": {
     "base_uri": "https://localhost:8080/"
    },
    "executionInfo": {
     "elapsed": 100073,
     "status": "ok",
     "timestamp": 1612543084320,
     "user": {
      "displayName": "Tan Haobin",
      "photoUrl": "",
      "userId": "13030141802000336802"
     },
     "user_tz": -60
    },
    "id": "QPdmQliqA23O",
    "outputId": "6c7c294c-6eb3-42d8-b6fd-93c331639462"
   },
   "outputs": [],
   "source": [
    "torch.manual_seed(0) # ensure reproducibility\n",
    "\n",
    "exp_models = {\n",
    "    \"simple_cnn\": SimpleCNN(),\n",
    "    \"alexnet\": get_alexnet(),\n",
    "    \"resnet\": get_resnet(),\n",
    "    \"vgg11_bn\": get_vgg(),\n",
    "}\n",
    "exp_models = {model_name: model.to(device) for model_name, model in exp_models.items()}"
   ]
  },
  {
   "cell_type": "markdown",
   "metadata": {
    "id": "SmjyF3UmwUUi"
   },
   "source": [
    "## Train"
   ]
  },
  {
   "cell_type": "code",
   "execution_count": 18,
   "metadata": {
    "executionInfo": {
     "elapsed": 1151,
     "status": "ok",
     "timestamp": 1612542834459,
     "user": {
      "displayName": "Tan Haobin",
      "photoUrl": "",
      "userId": "13030141802000336802"
     },
     "user_tz": -60
    },
    "id": "I91XZpzs-6nv"
   },
   "outputs": [],
   "source": [
    "train_val_loss = {x: list() for x in [\"train\", \"val\"]}\n",
    "train_val_acc = {x: list() for x in [\"train\", \"val\"]}"
   ]
  },
  {
   "cell_type": "code",
   "execution_count": 19,
   "metadata": {
    "executionInfo": {
     "elapsed": 1495,
     "status": "ok",
     "timestamp": 1612542843020,
     "user": {
      "displayName": "Tan Haobin",
      "photoUrl": "",
      "userId": "13030141802000336802"
     },
     "user_tz": -60
    },
    "id": "HYYx8co0wqLC"
   },
   "outputs": [],
   "source": [
    "writer = SummaryWriter(\"runs/sign_languange\")\n",
    "\n",
    "def train(exp_models, criterion, writer, model_train_val_loss_dict, model_train_val_acc_dict, num_epochs=25):\n",
    "    for model_name, model in exp_models.items():\n",
    "\n",
    "        print(f\"Train {model_name}\")\n",
    "\n",
    "        optimizer = optim.SGD(model.parameters(), lr=0.01, momentum=0.9)\n",
    "        scheduler = lr_scheduler.StepLR(optimizer, step_size=7, gamma=0.1)\n",
    "\n",
    "        train_val_loss = model_train_val_loss_dict.get(model_name)\n",
    "        train_val_acc = model_train_val_acc_dict.get(model_name)\n",
    "\n",
    "        best_model_wts = copy.deepcopy(model.state_dict())\n",
    "        best_acc = 0.0\n",
    "        train_val_loss_dict = dict()\n",
    "        train_val_acc_dict = dict()\n",
    "\n",
    "        for epoch in range(1, num_epochs+1):\n",
    "            print(f\"{model_name}: Epoch {epoch}\")\n",
    "            print(\"-\" * 20)\n",
    "\n",
    "            for phase in [\"train\", \"val\"]:\n",
    "\n",
    "                if phase == \"train\":\n",
    "                    model.train()\n",
    "                else:\n",
    "                    model.eval()\n",
    "\n",
    "                running_loss = 0.0\n",
    "                running_corrects = 0\n",
    "\n",
    "                for images, labels in dataloaders[phase]:\n",
    "                    # Move to GPU\n",
    "                    images = images.to(device)\n",
    "                    labels = labels.to(device)\n",
    "\n",
    "                    optimizer.zero_grad()\n",
    "\n",
    "                    # forward\n",
    "                    # track history if only in train phase\n",
    "                    with torch.set_grad_enabled(phase == \"train\"):\n",
    "                        outputs = model(images)\n",
    "                        _, preds = torch.max(outputs, 1)\n",
    "                        loss = criterion(outputs, labels)\n",
    "\n",
    "                        # backward + optimize only in trianing phase\n",
    "                        if phase == 'train':\n",
    "                            loss.backward()\n",
    "                            optimizer.step()\n",
    "\n",
    "                    # statistics\n",
    "                    running_loss += loss.item() * images.shape[0]\n",
    "                    running_corrects += torch.sum(preds == labels.data).item()\n",
    "\n",
    "                if phase == 'train':\n",
    "                    scheduler.step()\n",
    "\n",
    "                epoch_loss = running_loss / dataset_sizes[phase]\n",
    "                train_val_loss[phase].append(epoch_loss)\n",
    "                writer.add_scalar(f\"Loss/{model_name}/{phase}\", epoch_loss, epoch)\n",
    "\n",
    "                epoch_acc = running_corrects.double() / dataset_sizes[phase]\n",
    "                train_val_acc[phase].append(epoch_acc)\n",
    "                writer.add_scalar(f\"Accuracy/{model_name}/{phase}\", epoch_acc, epoch)\n",
    "                \n",
    "                train_val_loss_dict.update({phase: epoch_loss})\n",
    "                train_val_acc_dict.update({phase: epoch_acc})\n",
    "\n",
    "                print(f'{phase} Loss: {epoch_loss:.4f}, Acc: {epoch_acc:.4f}')\n",
    "\n",
    "                # deep copy model weights if new best model occurs\n",
    "                if phase == 'val' and epoch_acc > best_acc:\n",
    "                    best_acc = epoch_acc\n",
    "                    best_model_wts = copy.deepcopy(model.state_dict())\n",
    "                    print(\"New best model!\")\n",
    "\n",
    "            # writer.add_scalars(\"Loss: Train vs. Val\", train_val_loss_dict, epoch)\n",
    "            # writer.add_scalars(\"Accuracy: Train vs. Val\", train_val_acc_dict, epoch)\n",
    "            print()\n",
    "\n",
    "        # load best model weights\n",
    "        model.load_state_dict(best_model_wts)\n",
    "\n",
    "    return exp_models"
   ]
  },
  {
   "cell_type": "markdown",
   "metadata": {
    "id": "fUe_US9bwYEL"
   },
   "source": [
    "Loss function:"
   ]
  },
  {
   "cell_type": "code",
   "execution_count": 20,
   "metadata": {
    "executionInfo": {
     "elapsed": 1560,
     "status": "ok",
     "timestamp": 1612542957683,
     "user": {
      "displayName": "Tan Haobin",
      "photoUrl": "",
      "userId": "13030141802000336802"
     },
     "user_tz": -60
    },
    "id": "hN1a8a5Pwakw"
   },
   "outputs": [],
   "source": [
    "criterion = nn.CrossEntropyLoss()\n",
    "\n",
    "model_train_val_loss_dict = {model: {x: list() for x in [\"train\", \"val\"]} for model in exp_models.keys()}\n",
    "model_train_val_acc_dict = {model: {x: list() for x in [\"train\", \"val\"]} for model in exp_models.keys()}"
   ]
  },
  {
   "cell_type": "markdown",
   "metadata": {
    "id": "OB-Faiqg9R9i"
   },
   "source": [
    "Kick off training:"
   ]
  },
  {
   "cell_type": "code",
   "execution_count": 21,
   "metadata": {
    "colab": {
     "base_uri": "https://localhost:8080/"
    },
    "id": "F5etcHmmIYT7",
    "outputId": "5bb20498-c99b-4038-8f02-ce7dd03ea051"
   },
   "outputs": [
    {
     "name": "stdout",
     "output_type": "stream",
     "text": [
      "Train simple_cnn\n",
      "simple_cnn: Epoch 1\n",
      "--------------------\n",
      "train Loss: 1.1060, Acc: 0.7926\n",
      "val Loss: 2.8741, Acc: 0.7921\n",
      "New best model!\n",
      "\n",
      "simple_cnn: Epoch 2\n",
      "--------------------\n",
      "train Loss: 1.0528, Acc: 0.9165\n",
      "val Loss: 0.2817, Acc: 0.9783\n",
      "New best model!\n",
      "\n",
      "simple_cnn: Epoch 3\n",
      "--------------------\n",
      "train Loss: 0.3452, Acc: 0.9695\n",
      "val Loss: 0.0175, Acc: 0.9964\n",
      "New best model!\n",
      "\n",
      "simple_cnn: Epoch 4\n",
      "--------------------\n",
      "train Loss: 0.1343, Acc: 0.9865\n",
      "val Loss: 0.0143, Acc: 0.9984\n",
      "New best model!\n",
      "\n",
      "simple_cnn: Epoch 5\n",
      "--------------------\n",
      "train Loss: 0.0919, Acc: 0.9913\n",
      "val Loss: 0.0015, Acc: 0.9996\n",
      "New best model!\n",
      "\n",
      "simple_cnn: Epoch 6\n",
      "--------------------\n",
      "train Loss: 0.0713, Acc: 0.9932\n",
      "val Loss: 0.0126, Acc: 0.9980\n",
      "\n",
      "simple_cnn: Epoch 7\n",
      "--------------------\n",
      "train Loss: 0.0572, Acc: 0.9942\n",
      "val Loss: 0.0010, Acc: 0.9997\n",
      "New best model!\n",
      "\n",
      "simple_cnn: Epoch 8\n",
      "--------------------\n",
      "train Loss: 0.0297, Acc: 0.9970\n",
      "val Loss: 0.0000, Acc: 1.0000\n",
      "New best model!\n",
      "\n",
      "simple_cnn: Epoch 9\n",
      "--------------------\n",
      "train Loss: 0.0104, Acc: 0.9985\n",
      "val Loss: 0.0000, Acc: 1.0000\n",
      "\n",
      "simple_cnn: Epoch 10\n",
      "--------------------\n",
      "train Loss: 0.0100, Acc: 0.9989\n",
      "val Loss: 0.0000, Acc: 1.0000\n",
      "\n",
      "simple_cnn: Epoch 11\n",
      "--------------------\n",
      "train Loss: 0.0063, Acc: 0.9989\n",
      "val Loss: 0.0000, Acc: 1.0000\n",
      "\n",
      "simple_cnn: Epoch 12\n",
      "--------------------\n",
      "train Loss: 0.0053, Acc: 0.9991\n",
      "val Loss: 0.0000, Acc: 1.0000\n",
      "\n",
      "simple_cnn: Epoch 13\n",
      "--------------------\n",
      "train Loss: 0.0066, Acc: 0.9993\n",
      "val Loss: 0.0000, Acc: 1.0000\n",
      "\n",
      "simple_cnn: Epoch 14\n",
      "--------------------\n",
      "train Loss: 0.0074, Acc: 0.9993\n",
      "val Loss: 0.0000, Acc: 1.0000\n",
      "\n",
      "simple_cnn: Epoch 15\n",
      "--------------------\n",
      "train Loss: 0.0038, Acc: 0.9994\n",
      "val Loss: 0.0000, Acc: 1.0000\n",
      "\n",
      "simple_cnn: Epoch 16\n",
      "--------------------\n",
      "train Loss: 0.0031, Acc: 0.9995\n",
      "val Loss: 0.0000, Acc: 1.0000\n",
      "\n",
      "simple_cnn: Epoch 17\n",
      "--------------------\n",
      "train Loss: 0.0045, Acc: 0.9993\n",
      "val Loss: 0.0000, Acc: 1.0000\n",
      "\n",
      "simple_cnn: Epoch 18\n",
      "--------------------\n",
      "train Loss: 0.0018, Acc: 0.9995\n",
      "val Loss: 0.0000, Acc: 1.0000\n",
      "\n",
      "simple_cnn: Epoch 19\n",
      "--------------------\n",
      "train Loss: 0.0029, Acc: 0.9995\n",
      "val Loss: 0.0000, Acc: 1.0000\n",
      "\n",
      "simple_cnn: Epoch 20\n",
      "--------------------\n",
      "train Loss: 0.0063, Acc: 0.9995\n",
      "val Loss: 0.0000, Acc: 1.0000\n",
      "\n",
      "simple_cnn: Epoch 21\n",
      "--------------------\n",
      "train Loss: 0.0050, Acc: 0.9992\n",
      "val Loss: 0.0000, Acc: 1.0000\n",
      "\n",
      "simple_cnn: Epoch 22\n",
      "--------------------\n",
      "train Loss: 0.0036, Acc: 0.9993\n",
      "val Loss: 0.0000, Acc: 1.0000\n",
      "\n",
      "simple_cnn: Epoch 23\n",
      "--------------------\n",
      "train Loss: 0.0053, Acc: 0.9994\n",
      "val Loss: 0.0000, Acc: 1.0000\n",
      "\n",
      "simple_cnn: Epoch 24\n",
      "--------------------\n",
      "train Loss: 0.0025, Acc: 0.9995\n",
      "val Loss: 0.0000, Acc: 1.0000\n",
      "\n",
      "simple_cnn: Epoch 25\n",
      "--------------------\n",
      "train Loss: 0.0013, Acc: 0.9997\n",
      "val Loss: 0.0000, Acc: 1.0000\n",
      "\n",
      "Train alexnet\n",
      "alexnet: Epoch 1\n",
      "--------------------\n",
      "train Loss: 3.1879, Acc: 0.0484\n",
      "val Loss: 3.1871, Acc: 0.0468\n",
      "New best model!\n",
      "\n",
      "alexnet: Epoch 2\n",
      "--------------------\n",
      "train Loss: 2.6421, Acc: 0.1907\n",
      "val Loss: 1.0129, Acc: 0.6652\n",
      "New best model!\n",
      "\n",
      "alexnet: Epoch 3\n",
      "--------------------\n",
      "train Loss: 0.6502, Acc: 0.7801\n",
      "val Loss: 0.1316, Acc: 0.9578\n",
      "New best model!\n",
      "\n",
      "alexnet: Epoch 4\n",
      "--------------------\n",
      "train Loss: 0.1760, Acc: 0.9413\n",
      "val Loss: 0.0277, Acc: 0.9899\n",
      "New best model!\n",
      "\n",
      "alexnet: Epoch 5\n",
      "--------------------\n",
      "train Loss: 0.0940, Acc: 0.9700\n",
      "val Loss: 0.0076, Acc: 0.9983\n",
      "New best model!\n",
      "\n",
      "alexnet: Epoch 6\n",
      "--------------------\n",
      "train Loss: 0.0564, Acc: 0.9824\n",
      "val Loss: 0.0016, Acc: 0.9997\n",
      "New best model!\n",
      "\n",
      "alexnet: Epoch 7\n",
      "--------------------\n",
      "train Loss: 0.0470, Acc: 0.9851\n",
      "val Loss: 0.0002, Acc: 1.0000\n",
      "New best model!\n",
      "\n",
      "alexnet: Epoch 8\n",
      "--------------------\n",
      "train Loss: 0.0091, Acc: 0.9973\n",
      "val Loss: 0.0000, Acc: 1.0000\n",
      "\n",
      "alexnet: Epoch 9\n",
      "--------------------\n",
      "train Loss: 0.0072, Acc: 0.9977\n",
      "val Loss: 0.0000, Acc: 1.0000\n",
      "\n",
      "alexnet: Epoch 10\n",
      "--------------------\n",
      "train Loss: 0.0055, Acc: 0.9983\n",
      "val Loss: 0.0000, Acc: 1.0000\n",
      "\n",
      "alexnet: Epoch 11\n",
      "--------------------\n",
      "train Loss: 0.0068, Acc: 0.9983\n",
      "val Loss: 0.0000, Acc: 1.0000\n",
      "\n",
      "alexnet: Epoch 12\n",
      "--------------------\n",
      "train Loss: 0.0051, Acc: 0.9983\n",
      "val Loss: 0.0000, Acc: 1.0000\n",
      "\n",
      "alexnet: Epoch 13\n",
      "--------------------\n",
      "train Loss: 0.0044, Acc: 0.9987\n",
      "val Loss: 0.0000, Acc: 1.0000\n",
      "\n",
      "alexnet: Epoch 14\n",
      "--------------------\n",
      "train Loss: 0.0025, Acc: 0.9993\n",
      "val Loss: 0.0000, Acc: 1.0000\n",
      "\n",
      "alexnet: Epoch 15\n",
      "--------------------\n",
      "train Loss: 0.0035, Acc: 0.9990\n",
      "val Loss: 0.0000, Acc: 1.0000\n",
      "\n",
      "alexnet: Epoch 16\n",
      "--------------------\n",
      "train Loss: 0.0038, Acc: 0.9988\n",
      "val Loss: 0.0000, Acc: 1.0000\n",
      "\n",
      "alexnet: Epoch 17\n",
      "--------------------\n",
      "train Loss: 0.0040, Acc: 0.9987\n",
      "val Loss: 0.0000, Acc: 1.0000\n",
      "\n",
      "alexnet: Epoch 18\n",
      "--------------------\n",
      "train Loss: 0.0026, Acc: 0.9990\n",
      "val Loss: 0.0000, Acc: 1.0000\n",
      "\n",
      "alexnet: Epoch 19\n",
      "--------------------\n",
      "train Loss: 0.0035, Acc: 0.9987\n",
      "val Loss: 0.0000, Acc: 1.0000\n",
      "\n",
      "alexnet: Epoch 20\n",
      "--------------------\n",
      "train Loss: 0.0038, Acc: 0.9987\n",
      "val Loss: 0.0000, Acc: 1.0000\n",
      "\n",
      "alexnet: Epoch 21\n",
      "--------------------\n",
      "train Loss: 0.0032, Acc: 0.9989\n",
      "val Loss: 0.0000, Acc: 1.0000\n",
      "\n",
      "alexnet: Epoch 22\n",
      "--------------------\n",
      "train Loss: 0.0034, Acc: 0.9990\n",
      "val Loss: 0.0000, Acc: 1.0000\n",
      "\n",
      "alexnet: Epoch 23\n",
      "--------------------\n",
      "train Loss: 0.0038, Acc: 0.9986\n",
      "val Loss: 0.0000, Acc: 1.0000\n",
      "\n",
      "alexnet: Epoch 24\n",
      "--------------------\n",
      "train Loss: 0.0029, Acc: 0.9991\n",
      "val Loss: 0.0000, Acc: 1.0000\n",
      "\n",
      "alexnet: Epoch 25\n",
      "--------------------\n",
      "train Loss: 0.0034, Acc: 0.9991\n",
      "val Loss: 0.0000, Acc: 1.0000\n",
      "\n",
      "Train resnet\n",
      "resnet: Epoch 1\n",
      "--------------------\n",
      "train Loss: 0.7214, Acc: 0.7775\n",
      "val Loss: 0.0130, Acc: 0.9996\n",
      "New best model!\n",
      "\n",
      "resnet: Epoch 2\n",
      "--------------------\n",
      "train Loss: 0.0154, Acc: 0.9980\n",
      "val Loss: 2.2285, Acc: 0.5372\n",
      "\n",
      "resnet: Epoch 3\n",
      "--------------------\n",
      "train Loss: 0.0061, Acc: 0.9991\n",
      "val Loss: 0.0028, Acc: 0.9999\n",
      "New best model!\n",
      "\n",
      "resnet: Epoch 4\n",
      "--------------------\n",
      "train Loss: 0.0042, Acc: 0.9996\n",
      "val Loss: 0.0943, Acc: 0.9706\n",
      "\n",
      "resnet: Epoch 5\n",
      "--------------------\n",
      "train Loss: 0.0031, Acc: 0.9995\n",
      "val Loss: 0.0002, Acc: 1.0000\n",
      "New best model!\n",
      "\n",
      "resnet: Epoch 6\n",
      "--------------------\n",
      "train Loss: 0.0017, Acc: 0.9999\n",
      "val Loss: 0.0002, Acc: 1.0000\n",
      "\n",
      "resnet: Epoch 7\n",
      "--------------------\n",
      "train Loss: 0.0067, Acc: 0.9987\n",
      "val Loss: 0.0004, Acc: 0.9999\n",
      "\n",
      "resnet: Epoch 8\n",
      "--------------------\n",
      "train Loss: 0.0011, Acc: 0.9998\n",
      "val Loss: 0.0003, Acc: 1.0000\n",
      "\n",
      "resnet: Epoch 9\n",
      "--------------------\n",
      "train Loss: 0.0008, Acc: 1.0000\n",
      "val Loss: 0.0002, Acc: 1.0000\n",
      "\n",
      "resnet: Epoch 10\n",
      "--------------------\n",
      "train Loss: 0.0010, Acc: 0.9999\n",
      "val Loss: 0.0002, Acc: 1.0000\n",
      "\n",
      "resnet: Epoch 11\n",
      "--------------------\n",
      "train Loss: 0.0007, Acc: 1.0000\n",
      "val Loss: 0.0002, Acc: 1.0000\n",
      "\n",
      "resnet: Epoch 12\n",
      "--------------------\n",
      "train Loss: 0.0009, Acc: 1.0000\n",
      "val Loss: 0.0002, Acc: 1.0000\n",
      "\n",
      "resnet: Epoch 13\n",
      "--------------------\n",
      "train Loss: 0.0008, Acc: 1.0000\n",
      "val Loss: 0.0002, Acc: 1.0000\n",
      "\n",
      "resnet: Epoch 14\n",
      "--------------------\n",
      "train Loss: 0.0007, Acc: 1.0000\n",
      "val Loss: 0.0002, Acc: 1.0000\n",
      "\n",
      "resnet: Epoch 15\n",
      "--------------------\n",
      "train Loss: 0.0007, Acc: 1.0000\n",
      "val Loss: 0.0002, Acc: 1.0000\n",
      "\n",
      "resnet: Epoch 16\n",
      "--------------------\n",
      "train Loss: 0.0007, Acc: 1.0000\n",
      "val Loss: 0.0002, Acc: 1.0000\n",
      "\n",
      "resnet: Epoch 17\n",
      "--------------------\n",
      "train Loss: 0.0007, Acc: 1.0000\n",
      "val Loss: 0.0002, Acc: 1.0000\n",
      "\n",
      "resnet: Epoch 18\n",
      "--------------------\n",
      "train Loss: 0.0007, Acc: 1.0000\n",
      "val Loss: 0.0001, Acc: 1.0000\n",
      "\n",
      "resnet: Epoch 19\n",
      "--------------------\n",
      "train Loss: 0.0007, Acc: 1.0000\n",
      "val Loss: 0.0002, Acc: 1.0000\n",
      "\n",
      "resnet: Epoch 20\n",
      "--------------------\n",
      "train Loss: 0.0007, Acc: 1.0000\n",
      "val Loss: 0.0002, Acc: 1.0000\n",
      "\n",
      "resnet: Epoch 21\n",
      "--------------------\n",
      "train Loss: 0.0007, Acc: 1.0000\n",
      "val Loss: 0.0002, Acc: 1.0000\n",
      "\n",
      "resnet: Epoch 22\n",
      "--------------------\n",
      "train Loss: 0.0006, Acc: 1.0000\n",
      "val Loss: 0.0002, Acc: 1.0000\n",
      "\n",
      "resnet: Epoch 23\n",
      "--------------------\n",
      "train Loss: 0.0007, Acc: 1.0000\n",
      "val Loss: 0.0002, Acc: 1.0000\n",
      "\n",
      "resnet: Epoch 24\n",
      "--------------------\n",
      "train Loss: 0.0006, Acc: 1.0000\n",
      "val Loss: 0.0002, Acc: 1.0000\n",
      "\n",
      "resnet: Epoch 25\n",
      "--------------------\n",
      "train Loss: 0.0007, Acc: 1.0000\n",
      "val Loss: 0.0002, Acc: 1.0000\n",
      "\n",
      "Train vgg11_bn\n",
      "vgg11_bn: Epoch 1\n",
      "--------------------\n",
      "train Loss: 1.8438, Acc: 0.4372\n",
      "val Loss: 0.5039, Acc: 0.8138\n",
      "New best model!\n",
      "\n",
      "vgg11_bn: Epoch 2\n",
      "--------------------\n",
      "train Loss: 0.4886, Acc: 0.8417\n",
      "val Loss: 0.0899, Acc: 0.9693\n",
      "New best model!\n",
      "\n",
      "vgg11_bn: Epoch 3\n",
      "--------------------\n",
      "train Loss: 0.1494, Acc: 0.9533\n",
      "val Loss: 0.0046, Acc: 0.9997\n",
      "New best model!\n",
      "\n",
      "vgg11_bn: Epoch 4\n",
      "--------------------\n",
      "train Loss: 0.0760, Acc: 0.9761\n",
      "val Loss: 0.0045, Acc: 0.9983\n",
      "\n",
      "vgg11_bn: Epoch 5\n",
      "--------------------\n",
      "train Loss: 0.0443, Acc: 0.9866\n",
      "val Loss: 0.0031, Acc: 0.9991\n",
      "\n",
      "vgg11_bn: Epoch 6\n",
      "--------------------\n",
      "train Loss: 0.0330, Acc: 0.9901\n",
      "val Loss: 0.0004, Acc: 1.0000\n",
      "New best model!\n",
      "\n",
      "vgg11_bn: Epoch 7\n",
      "--------------------\n",
      "train Loss: 0.0159, Acc: 0.9948\n",
      "val Loss: 0.0016, Acc: 0.9991\n",
      "\n",
      "vgg11_bn: Epoch 8\n",
      "--------------------\n",
      "train Loss: 0.0112, Acc: 0.9966\n",
      "val Loss: 0.0000, Acc: 1.0000\n",
      "\n",
      "vgg11_bn: Epoch 9\n",
      "--------------------\n",
      "train Loss: 0.0069, Acc: 0.9981\n",
      "val Loss: 0.0000, Acc: 1.0000\n",
      "\n",
      "vgg11_bn: Epoch 10\n",
      "--------------------\n",
      "train Loss: 0.0068, Acc: 0.9979\n",
      "val Loss: 0.0000, Acc: 1.0000\n",
      "\n",
      "vgg11_bn: Epoch 11\n",
      "--------------------\n",
      "train Loss: 0.0040, Acc: 0.9988\n",
      "val Loss: 0.0000, Acc: 1.0000\n",
      "\n",
      "vgg11_bn: Epoch 12\n",
      "--------------------\n",
      "train Loss: 0.0031, Acc: 0.9989\n",
      "val Loss: 0.0000, Acc: 1.0000\n",
      "\n",
      "vgg11_bn: Epoch 13\n",
      "--------------------\n",
      "train Loss: 0.0043, Acc: 0.9986\n",
      "val Loss: 0.0000, Acc: 1.0000\n",
      "\n",
      "vgg11_bn: Epoch 14\n",
      "--------------------\n",
      "train Loss: 0.0052, Acc: 0.9986\n",
      "val Loss: 0.0000, Acc: 1.0000\n",
      "\n",
      "vgg11_bn: Epoch 15\n",
      "--------------------\n",
      "train Loss: 0.0038, Acc: 0.9989\n",
      "val Loss: 0.0000, Acc: 1.0000\n",
      "\n",
      "vgg11_bn: Epoch 16\n",
      "--------------------\n",
      "train Loss: 0.0039, Acc: 0.9991\n",
      "val Loss: 0.0000, Acc: 1.0000\n",
      "\n",
      "vgg11_bn: Epoch 17\n",
      "--------------------\n",
      "train Loss: 0.0033, Acc: 0.9990\n",
      "val Loss: 0.0000, Acc: 1.0000\n",
      "\n",
      "vgg11_bn: Epoch 18\n",
      "--------------------\n",
      "train Loss: 0.0033, Acc: 0.9991\n",
      "val Loss: 0.0000, Acc: 1.0000\n",
      "\n",
      "vgg11_bn: Epoch 19\n",
      "--------------------\n",
      "train Loss: 0.0047, Acc: 0.9984\n",
      "val Loss: 0.0000, Acc: 1.0000\n",
      "\n",
      "vgg11_bn: Epoch 20\n",
      "--------------------\n",
      "train Loss: 0.0037, Acc: 0.9991\n",
      "val Loss: 0.0000, Acc: 1.0000\n",
      "\n",
      "vgg11_bn: Epoch 21\n",
      "--------------------\n",
      "train Loss: 0.0027, Acc: 0.9992\n",
      "val Loss: 0.0000, Acc: 1.0000\n",
      "\n",
      "vgg11_bn: Epoch 22\n",
      "--------------------\n",
      "train Loss: 0.0031, Acc: 0.9995\n",
      "val Loss: 0.0000, Acc: 1.0000\n",
      "\n",
      "vgg11_bn: Epoch 23\n",
      "--------------------\n",
      "train Loss: 0.0037, Acc: 0.9989\n",
      "val Loss: 0.0000, Acc: 1.0000\n",
      "\n",
      "vgg11_bn: Epoch 24\n",
      "--------------------\n",
      "train Loss: 0.0034, Acc: 0.9990\n",
      "val Loss: 0.0000, Acc: 1.0000\n",
      "\n",
      "vgg11_bn: Epoch 25\n",
      "--------------------\n",
      "train Loss: 0.0048, Acc: 0.9986\n",
      "val Loss: 0.0000, Acc: 1.0000\n",
      "\n"
     ]
    }
   ],
   "source": [
    "trained_models = train(exp_models, criterion, writer, model_train_val_loss_dict, model_train_val_acc_dict, num_epochs=25)"
   ]
  },
  {
   "cell_type": "markdown",
   "metadata": {
    "id": "btuWZoVSWv4N"
   },
   "source": [
    "## Test"
   ]
  },
  {
   "cell_type": "code",
   "execution_count": 22,
   "metadata": {
    "executionInfo": {
     "elapsed": 1758,
     "status": "ok",
     "timestamp": 1612540222616,
     "user": {
      "displayName": "Tan Haobin",
      "photoUrl": "",
      "userId": "13030141802000336802"
     },
     "user_tz": -60
    },
    "id": "6lX9ryyfbCvG"
   },
   "outputs": [],
   "source": [
    "TEST_SET = \"data/sign_mnist_test.csv\"\n",
    "test_set = SignLanguageMNIST(TEST_SET, phase=\"test\", transform=data_transforms[\"val\"])\n",
    "test_dataloader = DataLoader(test_set, batch_size=BATCH_SIZE, num_workers=NUM_WORKERS) "
   ]
  },
  {
   "cell_type": "code",
   "execution_count": 27,
   "metadata": {
    "colab": {
     "base_uri": "https://localhost:8080/",
     "height": 215,
     "referenced_widgets": [
      "6ffe5165fe9345a7a9b8c4dcbf7fba7a",
      "b9c4a97ddfa14ce0bc974b84539c871a",
      "258801c4e1d34c3298732d462ec2ade7",
      "990a6633ea034ddf93475961155df723",
      "fe7b2c6ad91e467da2de0e8c3083b1ec",
      "dd09d1f27b9045d99011c1890fb75d7f",
      "42d88c36dce84135aa770a8ddd179ca6",
      "b20eca746aa54000b7b81ec45449c2a4",
      "933c456a4cdc4122895f5c1c1f2bd57b",
      "151fc34ffec9429b96f4d72f1ca8c8fb",
      "e379efd8441e46728b8dfae5d0e76647",
      "ea4ef9a4ed9248ccb2d96ed417905b4f",
      "fa4649fa8316466f93e4e3c5ee1ce400",
      "afd7d63be6bc45ba830c42539f002898",
      "38fcf5f6653a4b208286f97e65993dc2",
      "fe872a7d5aa24849b4c589acbb3e7654",
      "5ac30c34917a4b869bd4943a9b3310f4",
      "53904115d1a747448f8c0c7ceea9def8",
      "c46f941506ba4b9683b19f809298c43a",
      "49c8a7c94fee40908b5d19b029fba1d6",
      "5e6bd4fc3b164c22b45e7b501ec315b9",
      "03c55401ef854f63ac48e8ac30e5673e",
      "4f28e1f0196b4c4e890427cde853d295",
      "8b3ab69f4f5444509e45e7361804d9bd"
     ]
    },
    "executionInfo": {
     "elapsed": 61940,
     "status": "ok",
     "timestamp": 1612540283509,
     "user": {
      "displayName": "Tan Haobin",
      "photoUrl": "",
      "userId": "13030141802000336802"
     },
     "user_tz": -60
    },
    "id": "gNkd9b1rc4GJ",
    "outputId": "ac1f4d4e-a684-4e3a-a358-6930548f767d"
   },
   "outputs": [
    {
     "name": "stdout",
     "output_type": "stream",
     "text": [
      "simple_cnn: Accuracy on test set is 0.9833\n",
      "alexnet: Accuracy on test set is 0.9933\n",
      "resnet: Accuracy on test set is 0.9997\n",
      "vgg11_bn: Accuracy on test set is 0.99\n"
     ]
    }
   ],
   "source": [
    "# from tqdm.notebook import tqdm\n",
    "\n",
    "test_acc_dict = dict()\n",
    "\n",
    "\n",
    "for model_name, model in trained_models.items():\n",
    "    correct = 0\n",
    "    model.eval()\n",
    "    for images, labels in test_dataloader:\n",
    "        images = images.to(device)\n",
    "        labels = labels.to(device)\n",
    "\n",
    "        with torch.no_grad():\n",
    "            outputs = model(images)\n",
    "            _, preds = _, preds = torch.max(outputs, 1)\n",
    "            correct += (preds == labels).sum().item()\n",
    "\n",
    "    test_acc = round(correct / len(test_set), 4)\n",
    "    test_acc_dict.update({model_name: test_acc})\n",
    "    \n",
    "    print(f\"{model_name}: Accuracy on test set is {test_acc}\")"
   ]
  },
  {
   "cell_type": "markdown",
   "metadata": {
    "id": "K7_d5sDdhVP9"
   },
   "source": [
    "## Number of model parameters"
   ]
  },
  {
   "cell_type": "code",
   "execution_count": 28,
   "metadata": {},
   "outputs": [],
   "source": [
    "def get_param_num(model):\n",
    "    return sum(p.numel() for p in model.parameters())"
   ]
  },
  {
   "cell_type": "code",
   "execution_count": 32,
   "metadata": {},
   "outputs": [],
   "source": [
    "model_params_num_dict = dict()\n",
    "\n",
    "for model_name, model in exp_models.items():\n",
    "    model_params_num_dict.update({model_name: get_param_num(model)})"
   ]
  },
  {
   "cell_type": "code",
   "execution_count": 33,
   "metadata": {},
   "outputs": [
    {
     "data": {
      "text/plain": [
       "{'simple_cnn': 3707097,\n",
       " 'alexnet': 57090777,\n",
       " 'resnet': 11183065,\n",
       " 'vgg11_bn': 128873113}"
      ]
     },
     "execution_count": 33,
     "metadata": {},
     "output_type": "execute_result"
    }
   ],
   "source": [
    "model_params_num_dict"
   ]
  },
  {
   "cell_type": "markdown",
   "metadata": {
    "id": "0yW9cOYLDM6v"
   },
   "source": [
    "## Plotting"
   ]
  },
  {
   "cell_type": "code",
   "execution_count": 36,
   "metadata": {
    "executionInfo": {
     "elapsed": 668,
     "status": "ok",
     "timestamp": 1612523244320,
     "user": {
      "displayName": "Tan Haobin",
      "photoUrl": "",
      "userId": "13030141802000336802"
     },
     "user_tz": -60
    },
    "id": "ENfrSmmZ6RJ3"
   },
   "outputs": [],
   "source": [
    "plt.style.use('ggplot')"
   ]
  },
  {
   "cell_type": "markdown",
   "metadata": {},
   "source": [
    "### Loss"
   ]
  },
  {
   "cell_type": "code",
   "execution_count": null,
   "metadata": {},
   "outputs": [],
   "source": [
    "model_train_val_loss_dict"
   ]
  },
  {
   "cell_type": "code",
   "execution_count": 49,
   "metadata": {},
   "outputs": [
    {
     "data": {
      "text/plain": [
       "<matplotlib.legend.Legend at 0x7f6ef843dfd0>"
      ]
     },
     "execution_count": 49,
     "metadata": {},
     "output_type": "execute_result"
    },
    {
     "data": {
      "image/png": "[encoded data removed]",
      "text/plain": [
       "<Figure size 1152x648 with 2 Axes>"
      ]
     },
     "metadata": {},
     "output_type": "display_data"
    }
   ],
   "source": [
    "fig = plt.figure(figsize=(16, 9))\n",
    "fig.suptitle('Loss', fontsize=16)\n",
    "\n",
    "ax_train_loss = fig.add_subplot(1, 2, 1)\n",
    "ax_train_loss.set_title(\"Train\")\n",
    "for model_name, train_val_loss in model_train_val_loss_dict.items():\n",
    "    ax_train_loss.plot(train_val_loss[\"train\"], label=model_name)\n",
    "ax_train_loss.legend()\n",
    "\n",
    "ax_val_loss = fig.add_subplot(1, 2, 2)\n",
    "ax_val_loss.set_title(\"Validation\")\n",
    "for model_name, train_val_loss in model_train_val_loss_dict.items():\n",
    "    ax_val_loss.plot(train_val_loss[\"val\"], label=model_name)\n",
    "ax_val_loss.legend()"
   ]
  },
  {
   "cell_type": "code",
   "execution_count": 47,
   "metadata": {},
   "outputs": [
    {
     "name": "stdout",
     "output_type": "stream",
     "text": [
      "Save train_val_loss.png in .\n"
     ]
    },
    {
     "data": {
      "text/plain": [
       "<Figure size 432x288 with 0 Axes>"
      ]
     },
     "metadata": {},
     "output_type": "display_data"
    }
   ],
   "source": [
    "save_fig(fig, \"train_val_loss\", \".\", resolution=100)"
   ]
  },
  {
   "cell_type": "markdown",
   "metadata": {},
   "source": [
    "### Accuracymodel_train_val_acc_dict"
   ]
  },
  {
   "cell_type": "code",
   "execution_count": null,
   "metadata": {},
   "outputs": [],
   "source": [
    "model_train_val_acc_dict"
   ]
  },
  {
   "cell_type": "code",
   "execution_count": 60,
   "metadata": {},
   "outputs": [
    {
     "data": {
      "text/plain": [
       "<matplotlib.legend.Legend at 0x7f6ef0425d50>"
      ]
     },
     "execution_count": 60,
     "metadata": {},
     "output_type": "execute_result"
    },
    {
     "data": {
      "image/png": "[encoded data removed]",
      "text/plain": [
       "<Figure size 1152x648 with 2 Axes>"
      ]
     },
     "metadata": {},
     "output_type": "display_data"
    }
   ],
   "source": [
    "fig = plt.figure(figsize=(16, 9))\n",
    "fig.suptitle('Accuracy', fontsize=16)\n",
    "\n",
    "ax_train_acc = fig.add_subplot(1, 2, 1)\n",
    "ax_train_acc.set_title(\"Train\")\n",
    "for model_name, train_val_acc in model_train_val_acc_dict.items():\n",
    "    ax_train_acc.plot(train_val_acc[\"train\"], label=model_name)\n",
    "ax_train_acc.legend()\n",
    "\n",
    "ax_val_acc = fig.add_subplot(1, 2, 2)\n",
    "ax_val_acc.set_title(\"Validation\")\n",
    "for model_name, train_val_acc in model_train_val_acc_dict.items():\n",
    "    ax_val_acc.plot(train_val_acc[\"val\"], label=model_name)\n",
    "ax_val_acc.legend()"
   ]
  },
  {
   "cell_type": "code",
   "execution_count": 61,
   "metadata": {},
   "outputs": [
    {
     "name": "stdout",
     "output_type": "stream",
     "text": [
      "Save train_val_acc.png in .\n"
     ]
    },
    {
     "data": {
      "text/plain": [
       "<Figure size 432x288 with 0 Axes>"
      ]
     },
     "metadata": {},
     "output_type": "display_data"
    }
   ],
   "source": [
    "save_fig(fig, \"train_val_acc\", \".\", resolution=100)"
   ]
  },
  {
   "cell_type": "markdown",
   "metadata": {
    "id": "DZt_F-11kZYz"
   },
   "source": [
    "## Dataframe"
   ]
  },
  {
   "cell_type": "code",
   "execution_count": 62,
   "metadata": {},
   "outputs": [
    {
     "data": {
      "text/plain": [
       "{'simple_cnn': 0.9833, 'alexnet': 0.9933, 'resnet': 0.9997, 'vgg11_bn': 0.99}"
      ]
     },
     "execution_count": 62,
     "metadata": {},
     "output_type": "execute_result"
    }
   ],
   "source": [
    "test_acc_dict"
   ]
  },
  {
   "cell_type": "code",
   "execution_count": 63,
   "metadata": {},
   "outputs": [
    {
     "data": {
      "text/plain": [
       "{'simple_cnn': 3707097,\n",
       " 'alexnet': 57090777,\n",
       " 'resnet': 11183065,\n",
       " 'vgg11_bn': 128873113}"
      ]
     },
     "execution_count": 63,
     "metadata": {},
     "output_type": "execute_result"
    }
   ],
   "source": [
    "model_params_num_dict"
   ]
  },
  {
   "cell_type": "code",
   "execution_count": 64,
   "metadata": {},
   "outputs": [
    {
     "data": {
      "text/html": [
       "<div>\n",
       "<style scoped>\n",
       "    .dataframe tbody tr th:only-of-type {\n",
       "        vertical-align: middle;\n",
       "    }\n",
       "\n",
       "    .dataframe tbody tr th {\n",
       "        vertical-align: top;\n",
       "    }\n",
       "\n",
       "    .dataframe thead th {\n",
       "        text-align: right;\n",
       "    }\n",
       "</style>\n",
       "<table border=\"1\" class=\"dataframe\">\n",
       "  <thead>\n",
       "    <tr style=\"text-align: right;\">\n",
       "      <th></th>\n",
       "      <th>Model</th>\n",
       "      <th>Test Acc</th>\n",
       "    </tr>\n",
       "  </thead>\n",
       "  <tbody>\n",
       "    <tr>\n",
       "      <th>0</th>\n",
       "      <td>simple_cnn</td>\n",
       "      <td>0.9833</td>\n",
       "    </tr>\n",
       "    <tr>\n",
       "      <th>1</th>\n",
       "      <td>alexnet</td>\n",
       "      <td>0.9933</td>\n",
       "    </tr>\n",
       "    <tr>\n",
       "      <th>2</th>\n",
       "      <td>resnet</td>\n",
       "      <td>0.9997</td>\n",
       "    </tr>\n",
       "    <tr>\n",
       "      <th>3</th>\n",
       "      <td>vgg11_bn</td>\n",
       "      <td>0.9900</td>\n",
       "    </tr>\n",
       "  </tbody>\n",
       "</table>\n",
       "</div>"
      ],
      "text/plain": [
       "        Model  Test Acc\n",
       "0  simple_cnn    0.9833\n",
       "1     alexnet    0.9933\n",
       "2      resnet    0.9997\n",
       "3    vgg11_bn    0.9900"
      ]
     },
     "execution_count": 64,
     "metadata": {},
     "output_type": "execute_result"
    }
   ],
   "source": [
    "import pandas as pd\n",
    "\n",
    "test_acc_df = pd.DataFrame(test_acc_dict.items(), columns=[\"Model\", \"Test Acc\"])\n",
    "test_acc_df"
   ]
  },
  {
   "cell_type": "code",
   "execution_count": 65,
   "metadata": {},
   "outputs": [
    {
     "data": {
      "text/html": [
       "<div>\n",
       "<style scoped>\n",
       "    .dataframe tbody tr th:only-of-type {\n",
       "        vertical-align: middle;\n",
       "    }\n",
       "\n",
       "    .dataframe tbody tr th {\n",
       "        vertical-align: top;\n",
       "    }\n",
       "\n",
       "    .dataframe thead th {\n",
       "        text-align: right;\n",
       "    }\n",
       "</style>\n",
       "<table border=\"1\" class=\"dataframe\">\n",
       "  <thead>\n",
       "    <tr style=\"text-align: right;\">\n",
       "      <th></th>\n",
       "      <th>Model</th>\n",
       "      <th>#Params</th>\n",
       "    </tr>\n",
       "  </thead>\n",
       "  <tbody>\n",
       "    <tr>\n",
       "      <th>0</th>\n",
       "      <td>simple_cnn</td>\n",
       "      <td>3707097</td>\n",
       "    </tr>\n",
       "    <tr>\n",
       "      <th>1</th>\n",
       "      <td>alexnet</td>\n",
       "      <td>57090777</td>\n",
       "    </tr>\n",
       "    <tr>\n",
       "      <th>2</th>\n",
       "      <td>resnet</td>\n",
       "      <td>11183065</td>\n",
       "    </tr>\n",
       "    <tr>\n",
       "      <th>3</th>\n",
       "      <td>vgg11_bn</td>\n",
       "      <td>128873113</td>\n",
       "    </tr>\n",
       "  </tbody>\n",
       "</table>\n",
       "</div>"
      ],
      "text/plain": [
       "        Model    #Params\n",
       "0  simple_cnn    3707097\n",
       "1     alexnet   57090777\n",
       "2      resnet   11183065\n",
       "3    vgg11_bn  128873113"
      ]
     },
     "execution_count": 65,
     "metadata": {},
     "output_type": "execute_result"
    }
   ],
   "source": [
    "model_params_num_df = pd.DataFrame(model_params_num_dict.items(), columns=[\"Model\", \"#Params\"])\n",
    "model_params_num_df"
   ]
  },
  {
   "cell_type": "code",
   "execution_count": 67,
   "metadata": {},
   "outputs": [
    {
     "data": {
      "text/html": [
       "<div>\n",
       "<style scoped>\n",
       "    .dataframe tbody tr th:only-of-type {\n",
       "        vertical-align: middle;\n",
       "    }\n",
       "\n",
       "    .dataframe tbody tr th {\n",
       "        vertical-align: top;\n",
       "    }\n",
       "\n",
       "    .dataframe thead th {\n",
       "        text-align: right;\n",
       "    }\n",
       "</style>\n",
       "<table border=\"1\" class=\"dataframe\">\n",
       "  <thead>\n",
       "    <tr style=\"text-align: right;\">\n",
       "      <th></th>\n",
       "      <th>Model</th>\n",
       "      <th>Test Acc</th>\n",
       "      <th>#Params</th>\n",
       "    </tr>\n",
       "  </thead>\n",
       "  <tbody>\n",
       "    <tr>\n",
       "      <th>0</th>\n",
       "      <td>simple_cnn</td>\n",
       "      <td>0.9833</td>\n",
       "      <td>3707097</td>\n",
       "    </tr>\n",
       "    <tr>\n",
       "      <th>1</th>\n",
       "      <td>alexnet</td>\n",
       "      <td>0.9933</td>\n",
       "      <td>57090777</td>\n",
       "    </tr>\n",
       "    <tr>\n",
       "      <th>2</th>\n",
       "      <td>resnet</td>\n",
       "      <td>0.9997</td>\n",
       "      <td>11183065</td>\n",
       "    </tr>\n",
       "    <tr>\n",
       "      <th>3</th>\n",
       "      <td>vgg11_bn</td>\n",
       "      <td>0.9900</td>\n",
       "      <td>128873113</td>\n",
       "    </tr>\n",
       "  </tbody>\n",
       "</table>\n",
       "</div>"
      ],
      "text/plain": [
       "        Model  Test Acc    #Params\n",
       "0  simple_cnn    0.9833    3707097\n",
       "1     alexnet    0.9933   57090777\n",
       "2      resnet    0.9997   11183065\n",
       "3    vgg11_bn    0.9900  128873113"
      ]
     },
     "execution_count": 67,
     "metadata": {},
     "output_type": "execute_result"
    }
   ],
   "source": [
    "summary_df = pd.merge(test_acc_df, model_params_num_df, on=\"Model\")\n",
    "summary_df"
   ]
  }
 ],
 "metadata": {
  "accelerator": "GPU",
  "colab": {
   "authorship_tag": "ABX9TyPIcpHGa6NEgpeC1iJffnC3",
   "collapsed_sections": [],
   "name": "experiment-model_comparison.ipynb",
   "provenance": [],
   "toc_visible": true
  },
  "kernelspec": {
   "display_name": "Python 3",
   "language": "python",
   "name": "python3"
  },
  "language_info": {
   "codemirror_mode": {
    "name": "ipython",
    "version": 3
   },
   "file_extension": ".py",
   "mimetype": "text/x-python",
   "name": "python",
   "nbconvert_exporter": "python",
   "pygments_lexer": "ipython3",
   "version": "3.7.9"
  },
  "widgets": {
   "application/vnd.jupyter.widget-state+json": {
    "03c55401ef854f63ac48e8ac30e5673e": {
     "model_module": "@jupyter-widgets/base",
     "model_name": "LayoutModel",
     "state": {
      "_model_module": "@jupyter-widgets/base",
      "_model_module_version": "1.2.0",
      "_model_name": "LayoutModel",
      "_view_count": null,
      "_view_module": "@jupyter-widgets/base",
      "_view_module_version": "1.2.0",
      "_view_name": "LayoutView",
      "align_content": null,
      "align_items": null,
      "align_self": null,
      "border": null,
      "bottom": null,
      "display": null,
      "flex": null,
      "flex_flow": null,
      "grid_area": null,
      "grid_auto_columns": null,
      "grid_auto_flow": null,
      "grid_auto_rows": null,
      "grid_column": null,
      "grid_gap": null,
      "grid_row": null,
      "grid_template_areas": null,
      "grid_template_columns": null,
      "grid_template_rows": null,
      "height": null,
      "justify_content": null,
      "justify_items": null,
      "left": null,
      "margin": null,
      "max_height": null,
      "max_width": null,
      "min_height": null,
      "min_width": null,
      "object_fit": null,
      "object_position": null,
      "order": null,
      "overflow": null,
      "overflow_x": null,
      "overflow_y": null,
      "padding": null,
      "right": null,
      "top": null,
      "visibility": null,
      "width": null
     }
    },
    "151fc34ffec9429b96f4d72f1ca8c8fb": {
     "model_module": "@jupyter-widgets/base",
     "model_name": "LayoutModel",
     "state": {
      "_model_module": "@jupyter-widgets/base",
      "_model_module_version": "1.2.0",
      "_model_name": "LayoutModel",
      "_view_count": null,
      "_view_module": "@jupyter-widgets/base",
      "_view_module_version": "1.2.0",
      "_view_name": "LayoutView",
      "align_content": null,
      "align_items": null,
      "align_self": null,
      "border": null,
      "bottom": null,
      "display": null,
      "flex": null,
      "flex_flow": null,
      "grid_area": null,
      "grid_auto_columns": null,
      "grid_auto_flow": null,
      "grid_auto_rows": null,
      "grid_column": null,
      "grid_gap": null,
      "grid_row": null,
      "grid_template_areas": null,
      "grid_template_columns": null,
      "grid_template_rows": null,
      "height": null,
      "justify_content": null,
      "justify_items": null,
      "left": null,
      "margin": null,
      "max_height": null,
      "max_width": null,
      "min_height": null,
      "min_width": null,
      "object_fit": null,
      "object_position": null,
      "order": null,
      "overflow": null,
      "overflow_x": null,
      "overflow_y": null,
      "padding": null,
      "right": null,
      "top": null,
      "visibility": null,
      "width": null
     }
    },
    "258801c4e1d34c3298732d462ec2ade7": {
     "model_module": "@jupyter-widgets/controls",
     "model_name": "FloatProgressModel",
     "state": {
      "_dom_classes": [],
      "_model_module": "@jupyter-widgets/controls",
      "_model_module_version": "1.5.0",
      "_model_name": "FloatProgressModel",
      "_view_count": null,
      "_view_module": "@jupyter-widgets/controls",
      "_view_module_version": "1.5.0",
      "_view_name": "ProgressView",
      "bar_style": "success",
      "description": "Testing vgg11_bn: 100%",
      "description_tooltip": null,
      "layout": "IPY_MODEL_dd09d1f27b9045d99011c1890fb75d7f",
      "max": 225,
      "min": 0,
      "orientation": "horizontal",
      "style": "IPY_MODEL_fe7b2c6ad91e467da2de0e8c3083b1ec",
      "value": 225
     }
    },
    "38fcf5f6653a4b208286f97e65993dc2": {
     "model_module": "@jupyter-widgets/controls",
     "model_name": "DescriptionStyleModel",
     "state": {
      "_model_module": "@jupyter-widgets/controls",
      "_model_module_version": "1.5.0",
      "_model_name": "DescriptionStyleModel",
      "_view_count": null,
      "_view_module": "@jupyter-widgets/base",
      "_view_module_version": "1.2.0",
      "_view_name": "StyleView",
      "description_width": ""
     }
    },
    "42d88c36dce84135aa770a8ddd179ca6": {
     "model_module": "@jupyter-widgets/controls",
     "model_name": "DescriptionStyleModel",
     "state": {
      "_model_module": "@jupyter-widgets/controls",
      "_model_module_version": "1.5.0",
      "_model_name": "DescriptionStyleModel",
      "_view_count": null,
      "_view_module": "@jupyter-widgets/base",
      "_view_module_version": "1.2.0",
      "_view_name": "StyleView",
      "description_width": ""
     }
    },
    "49c8a7c94fee40908b5d19b029fba1d6": {
     "model_module": "@jupyter-widgets/controls",
     "model_name": "HTMLModel",
     "state": {
      "_dom_classes": [],
      "_model_module": "@jupyter-widgets/controls",
      "_model_module_version": "1.5.0",
      "_model_name": "HTMLModel",
      "_view_count": null,
      "_view_module": "@jupyter-widgets/controls",
      "_view_module_version": "1.5.0",
      "_view_name": "HTMLView",
      "description": "",
      "description_tooltip": null,
      "layout": "IPY_MODEL_8b3ab69f4f5444509e45e7361804d9bd",
      "placeholder": "​",
      "style": "IPY_MODEL_4f28e1f0196b4c4e890427cde853d295",
      "value": " 225/225 [35:55&lt;00:00,  9.58s/it]"
     }
    },
    "4f28e1f0196b4c4e890427cde853d295": {
     "model_module": "@jupyter-widgets/controls",
     "model_name": "DescriptionStyleModel",
     "state": {
      "_model_module": "@jupyter-widgets/controls",
      "_model_module_version": "1.5.0",
      "_model_name": "DescriptionStyleModel",
      "_view_count": null,
      "_view_module": "@jupyter-widgets/base",
      "_view_module_version": "1.2.0",
      "_view_name": "StyleView",
      "description_width": ""
     }
    },
    "53904115d1a747448f8c0c7ceea9def8": {
     "model_module": "@jupyter-widgets/base",
     "model_name": "LayoutModel",
     "state": {
      "_model_module": "@jupyter-widgets/base",
      "_model_module_version": "1.2.0",
      "_model_name": "LayoutModel",
      "_view_count": null,
      "_view_module": "@jupyter-widgets/base",
      "_view_module_version": "1.2.0",
      "_view_name": "LayoutView",
      "align_content": null,
      "align_items": null,
      "align_self": null,
      "border": null,
      "bottom": null,
      "display": null,
      "flex": null,
      "flex_flow": null,
      "grid_area": null,
      "grid_auto_columns": null,
      "grid_auto_flow": null,
      "grid_auto_rows": null,
      "grid_column": null,
      "grid_gap": null,
      "grid_row": null,
      "grid_template_areas": null,
      "grid_template_columns": null,
      "grid_template_rows": null,
      "height": null,
      "justify_content": null,
      "justify_items": null,
      "left": null,
      "margin": null,
      "max_height": null,
      "max_width": null,
      "min_height": null,
      "min_width": null,
      "object_fit": null,
      "object_position": null,
      "order": null,
      "overflow": null,
      "overflow_x": null,
      "overflow_y": null,
      "padding": null,
      "right": null,
      "top": null,
      "visibility": null,
      "width": null
     }
    },
    "5ac30c34917a4b869bd4943a9b3310f4": {
     "model_module": "@jupyter-widgets/controls",
     "model_name": "HBoxModel",
     "state": {
      "_dom_classes": [],
      "_model_module": "@jupyter-widgets/controls",
      "_model_module_version": "1.5.0",
      "_model_name": "HBoxModel",
      "_view_count": null,
      "_view_module": "@jupyter-widgets/controls",
      "_view_module_version": "1.5.0",
      "_view_name": "HBoxView",
      "box_style": "",
      "children": [
       "IPY_MODEL_c46f941506ba4b9683b19f809298c43a",
       "IPY_MODEL_49c8a7c94fee40908b5d19b029fba1d6"
      ],
      "layout": "IPY_MODEL_53904115d1a747448f8c0c7ceea9def8"
     }
    },
    "5e6bd4fc3b164c22b45e7b501ec315b9": {
     "model_module": "@jupyter-widgets/controls",
     "model_name": "ProgressStyleModel",
     "state": {
      "_model_module": "@jupyter-widgets/controls",
      "_model_module_version": "1.5.0",
      "_model_name": "ProgressStyleModel",
      "_view_count": null,
      "_view_module": "@jupyter-widgets/base",
      "_view_module_version": "1.2.0",
      "_view_name": "StyleView",
      "bar_color": null,
      "description_width": "initial"
     }
    },
    "6ffe5165fe9345a7a9b8c4dcbf7fba7a": {
     "model_module": "@jupyter-widgets/controls",
     "model_name": "HBoxModel",
     "state": {
      "_dom_classes": [],
      "_model_module": "@jupyter-widgets/controls",
      "_model_module_version": "1.5.0",
      "_model_name": "HBoxModel",
      "_view_count": null,
      "_view_module": "@jupyter-widgets/controls",
      "_view_module_version": "1.5.0",
      "_view_name": "HBoxView",
      "box_style": "",
      "children": [
       "IPY_MODEL_258801c4e1d34c3298732d462ec2ade7",
       "IPY_MODEL_990a6633ea034ddf93475961155df723"
      ],
      "layout": "IPY_MODEL_b9c4a97ddfa14ce0bc974b84539c871a"
     }
    },
    "8b3ab69f4f5444509e45e7361804d9bd": {
     "model_module": "@jupyter-widgets/base",
     "model_name": "LayoutModel",
     "state": {
      "_model_module": "@jupyter-widgets/base",
      "_model_module_version": "1.2.0",
      "_model_name": "LayoutModel",
      "_view_count": null,
      "_view_module": "@jupyter-widgets/base",
      "_view_module_version": "1.2.0",
      "_view_name": "LayoutView",
      "align_content": null,
      "align_items": null,
      "align_self": null,
      "border": null,
      "bottom": null,
      "display": null,
      "flex": null,
      "flex_flow": null,
      "grid_area": null,
      "grid_auto_columns": null,
      "grid_auto_flow": null,
      "grid_auto_rows": null,
      "grid_column": null,
      "grid_gap": null,
      "grid_row": null,
      "grid_template_areas": null,
      "grid_template_columns": null,
      "grid_template_rows": null,
      "height": null,
      "justify_content": null,
      "justify_items": null,
      "left": null,
      "margin": null,
      "max_height": null,
      "max_width": null,
      "min_height": null,
      "min_width": null,
      "object_fit": null,
      "object_position": null,
      "order": null,
      "overflow": null,
      "overflow_x": null,
      "overflow_y": null,
      "padding": null,
      "right": null,
      "top": null,
      "visibility": null,
      "width": null
     }
    },
    "933c456a4cdc4122895f5c1c1f2bd57b": {
     "model_module": "@jupyter-widgets/controls",
     "model_name": "HBoxModel",
     "state": {
      "_dom_classes": [],
      "_model_module": "@jupyter-widgets/controls",
      "_model_module_version": "1.5.0",
      "_model_name": "HBoxModel",
      "_view_count": null,
      "_view_module": "@jupyter-widgets/controls",
      "_view_module_version": "1.5.0",
      "_view_name": "HBoxView",
      "box_style": "",
      "children": [
       "IPY_MODEL_e379efd8441e46728b8dfae5d0e76647",
       "IPY_MODEL_ea4ef9a4ed9248ccb2d96ed417905b4f"
      ],
      "layout": "IPY_MODEL_151fc34ffec9429b96f4d72f1ca8c8fb"
     }
    },
    "990a6633ea034ddf93475961155df723": {
     "model_module": "@jupyter-widgets/controls",
     "model_name": "HTMLModel",
     "state": {
      "_dom_classes": [],
      "_model_module": "@jupyter-widgets/controls",
      "_model_module_version": "1.5.0",
      "_model_name": "HTMLModel",
      "_view_count": null,
      "_view_module": "@jupyter-widgets/controls",
      "_view_module_version": "1.5.0",
      "_view_name": "HTMLView",
      "description": "",
      "description_tooltip": null,
      "layout": "IPY_MODEL_b20eca746aa54000b7b81ec45449c2a4",
      "placeholder": "​",
      "style": "IPY_MODEL_42d88c36dce84135aa770a8ddd179ca6",
      "value": " 225/225 [00:46&lt;00:00,  4.89it/s]"
     }
    },
    "afd7d63be6bc45ba830c42539f002898": {
     "model_module": "@jupyter-widgets/base",
     "model_name": "LayoutModel",
     "state": {
      "_model_module": "@jupyter-widgets/base",
      "_model_module_version": "1.2.0",
      "_model_name": "LayoutModel",
      "_view_count": null,
      "_view_module": "@jupyter-widgets/base",
      "_view_module_version": "1.2.0",
      "_view_name": "LayoutView",
      "align_content": null,
      "align_items": null,
      "align_self": null,
      "border": null,
      "bottom": null,
      "display": null,
      "flex": null,
      "flex_flow": null,
      "grid_area": null,
      "grid_auto_columns": null,
      "grid_auto_flow": null,
      "grid_auto_rows": null,
      "grid_column": null,
      "grid_gap": null,
      "grid_row": null,
      "grid_template_areas": null,
      "grid_template_columns": null,
      "grid_template_rows": null,
      "height": null,
      "justify_content": null,
      "justify_items": null,
      "left": null,
      "margin": null,
      "max_height": null,
      "max_width": null,
      "min_height": null,
      "min_width": null,
      "object_fit": null,
      "object_position": null,
      "order": null,
      "overflow": null,
      "overflow_x": null,
      "overflow_y": null,
      "padding": null,
      "right": null,
      "top": null,
      "visibility": null,
      "width": null
     }
    },
    "b20eca746aa54000b7b81ec45449c2a4": {
     "model_module": "@jupyter-widgets/base",
     "model_name": "LayoutModel",
     "state": {
      "_model_module": "@jupyter-widgets/base",
      "_model_module_version": "1.2.0",
      "_model_name": "LayoutModel",
      "_view_count": null,
      "_view_module": "@jupyter-widgets/base",
      "_view_module_version": "1.2.0",
      "_view_name": "LayoutView",
      "align_content": null,
      "align_items": null,
      "align_self": null,
      "border": null,
      "bottom": null,
      "display": null,
      "flex": null,
      "flex_flow": null,
      "grid_area": null,
      "grid_auto_columns": null,
      "grid_auto_flow": null,
      "grid_auto_rows": null,
      "grid_column": null,
      "grid_gap": null,
      "grid_row": null,
      "grid_template_areas": null,
      "grid_template_columns": null,
      "grid_template_rows": null,
      "height": null,
      "justify_content": null,
      "justify_items": null,
      "left": null,
      "margin": null,
      "max_height": null,
      "max_width": null,
      "min_height": null,
      "min_width": null,
      "object_fit": null,
      "object_position": null,
      "order": null,
      "overflow": null,
      "overflow_x": null,
      "overflow_y": null,
      "padding": null,
      "right": null,
      "top": null,
      "visibility": null,
      "width": null
     }
    },
    "b9c4a97ddfa14ce0bc974b84539c871a": {
     "model_module": "@jupyter-widgets/base",
     "model_name": "LayoutModel",
     "state": {
      "_model_module": "@jupyter-widgets/base",
      "_model_module_version": "1.2.0",
      "_model_name": "LayoutModel",
      "_view_count": null,
      "_view_module": "@jupyter-widgets/base",
      "_view_module_version": "1.2.0",
      "_view_name": "LayoutView",
      "align_content": null,
      "align_items": null,
      "align_self": null,
      "border": null,
      "bottom": null,
      "display": null,
      "flex": null,
      "flex_flow": null,
      "grid_area": null,
      "grid_auto_columns": null,
      "grid_auto_flow": null,
      "grid_auto_rows": null,
      "grid_column": null,
      "grid_gap": null,
      "grid_row": null,
      "grid_template_areas": null,
      "grid_template_columns": null,
      "grid_template_rows": null,
      "height": null,
      "justify_content": null,
      "justify_items": null,
      "left": null,
      "margin": null,
      "max_height": null,
      "max_width": null,
      "min_height": null,
      "min_width": null,
      "object_fit": null,
      "object_position": null,
      "order": null,
      "overflow": null,
      "overflow_x": null,
      "overflow_y": null,
      "padding": null,
      "right": null,
      "top": null,
      "visibility": null,
      "width": null
     }
    },
    "c46f941506ba4b9683b19f809298c43a": {
     "model_module": "@jupyter-widgets/controls",
     "model_name": "FloatProgressModel",
     "state": {
      "_dom_classes": [],
      "_model_module": "@jupyter-widgets/controls",
      "_model_module_version": "1.5.0",
      "_model_name": "FloatProgressModel",
      "_view_count": null,
      "_view_module": "@jupyter-widgets/controls",
      "_view_module_version": "1.5.0",
      "_view_name": "ProgressView",
      "bar_style": "success",
      "description": "Testing resnet: 100%",
      "description_tooltip": null,
      "layout": "IPY_MODEL_03c55401ef854f63ac48e8ac30e5673e",
      "max": 225,
      "min": 0,
      "orientation": "horizontal",
      "style": "IPY_MODEL_5e6bd4fc3b164c22b45e7b501ec315b9",
      "value": 225
     }
    },
    "dd09d1f27b9045d99011c1890fb75d7f": {
     "model_module": "@jupyter-widgets/base",
     "model_name": "LayoutModel",
     "state": {
      "_model_module": "@jupyter-widgets/base",
      "_model_module_version": "1.2.0",
      "_model_name": "LayoutModel",
      "_view_count": null,
      "_view_module": "@jupyter-widgets/base",
      "_view_module_version": "1.2.0",
      "_view_name": "LayoutView",
      "align_content": null,
      "align_items": null,
      "align_self": null,
      "border": null,
      "bottom": null,
      "display": null,
      "flex": null,
      "flex_flow": null,
      "grid_area": null,
      "grid_auto_columns": null,
      "grid_auto_flow": null,
      "grid_auto_rows": null,
      "grid_column": null,
      "grid_gap": null,
      "grid_row": null,
      "grid_template_areas": null,
      "grid_template_columns": null,
      "grid_template_rows": null,
      "height": null,
      "justify_content": null,
      "justify_items": null,
      "left": null,
      "margin": null,
      "max_height": null,
      "max_width": null,
      "min_height": null,
      "min_width": null,
      "object_fit": null,
      "object_position": null,
      "order": null,
      "overflow": null,
      "overflow_x": null,
      "overflow_y": null,
      "padding": null,
      "right": null,
      "top": null,
      "visibility": null,
      "width": null
     }
    },
    "e379efd8441e46728b8dfae5d0e76647": {
     "model_module": "@jupyter-widgets/controls",
     "model_name": "FloatProgressModel",
     "state": {
      "_dom_classes": [],
      "_model_module": "@jupyter-widgets/controls",
      "_model_module_version": "1.5.0",
      "_model_name": "FloatProgressModel",
      "_view_count": null,
      "_view_module": "@jupyter-widgets/controls",
      "_view_module_version": "1.5.0",
      "_view_name": "ProgressView",
      "bar_style": "success",
      "description": "Testing alexnet: 100%",
      "description_tooltip": null,
      "layout": "IPY_MODEL_afd7d63be6bc45ba830c42539f002898",
      "max": 225,
      "min": 0,
      "orientation": "horizontal",
      "style": "IPY_MODEL_fa4649fa8316466f93e4e3c5ee1ce400",
      "value": 225
     }
    },
    "ea4ef9a4ed9248ccb2d96ed417905b4f": {
     "model_module": "@jupyter-widgets/controls",
     "model_name": "HTMLModel",
     "state": {
      "_dom_classes": [],
      "_model_module": "@jupyter-widgets/controls",
      "_model_module_version": "1.5.0",
      "_model_name": "HTMLModel",
      "_view_count": null,
      "_view_module": "@jupyter-widgets/controls",
      "_view_module_version": "1.5.0",
      "_view_name": "HTMLView",
      "description": "",
      "description_tooltip": null,
      "layout": "IPY_MODEL_fe872a7d5aa24849b4c589acbb3e7654",
      "placeholder": "​",
      "style": "IPY_MODEL_38fcf5f6653a4b208286f97e65993dc2",
      "value": " 225/225 [00:08&lt;00:00, 26.81it/s]"
     }
    },
    "fa4649fa8316466f93e4e3c5ee1ce400": {
     "model_module": "@jupyter-widgets/controls",
     "model_name": "ProgressStyleModel",
     "state": {
      "_model_module": "@jupyter-widgets/controls",
      "_model_module_version": "1.5.0",
      "_model_name": "ProgressStyleModel",
      "_view_count": null,
      "_view_module": "@jupyter-widgets/base",
      "_view_module_version": "1.2.0",
      "_view_name": "StyleView",
      "bar_color": null,
      "description_width": "initial"
     }
    },
    "fe7b2c6ad91e467da2de0e8c3083b1ec": {
     "model_module": "@jupyter-widgets/controls",
     "model_name": "ProgressStyleModel",
     "state": {
      "_model_module": "@jupyter-widgets/controls",
      "_model_module_version": "1.5.0",
      "_model_name": "ProgressStyleModel",
      "_view_count": null,
      "_view_module": "@jupyter-widgets/base",
      "_view_module_version": "1.2.0",
      "_view_name": "StyleView",
      "bar_color": null,
      "description_width": "initial"
     }
    },
    "fe872a7d5aa24849b4c589acbb3e7654": {
     "model_module": "@jupyter-widgets/base",
     "model_name": "LayoutModel",
     "state": {
      "_model_module": "@jupyter-widgets/base",
      "_model_module_version": "1.2.0",
      "_model_name": "LayoutModel",
      "_view_count": null,
      "_view_module": "@jupyter-widgets/base",
      "_view_module_version": "1.2.0",
      "_view_name": "LayoutView",
      "align_content": null,
      "align_items": null,
      "align_self": null,
      "border": null,
      "bottom": null,
      "display": null,
      "flex": null,
      "flex_flow": null,
      "grid_area": null,
      "grid_auto_columns": null,
      "grid_auto_flow": null,
      "grid_auto_rows": null,
      "grid_column": null,
      "grid_gap": null,
      "grid_row": null,
      "grid_template_areas": null,
      "grid_template_columns": null,
      "grid_template_rows": null,
      "height": null,
      "justify_content": null,
      "justify_items": null,
      "left": null,
      "margin": null,
      "max_height": null,
      "max_width": null,
      "min_height": null,
      "min_width": null,
      "object_fit": null,
      "object_position": null,
      "order": null,
      "overflow": null,
      "overflow_x": null,
      "overflow_y": null,
      "padding": null,
      "right": null,
      "top": null,
      "visibility": null,
      "width": null
     }
    }
   }
  }
 },
 "nbformat": 4,
 "nbformat_minor": 4
}
